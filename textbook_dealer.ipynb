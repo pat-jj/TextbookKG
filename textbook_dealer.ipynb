{
 "cells": [
  {
   "cell_type": "code",
   "execution_count": null,
   "metadata": {},
   "outputs": [],
   "source": [
    "import fitz\n",
    "from tqdm import tqdm\n",
    "        "
   ]
  },
  {
   "cell_type": "code",
   "execution_count": null,
   "metadata": {},
   "outputs": [],
   "source": [
    "# path = \"./textbooks\"\n",
    "pdf_file = \"./textbook.pdf\"\n",
    "doc = fitz.open(pdf_file)"
   ]
  },
  {
   "cell_type": "code",
   "execution_count": null,
   "metadata": {},
   "outputs": [],
   "source": [
    "index_str = \"\"\n",
    "for i in range(6, 16):\n",
    "    index_str += doc[i].get_text()"
   ]
  },
  {
   "cell_type": "code",
   "execution_count": null,
   "metadata": {},
   "outputs": [],
   "source": [
    "from collections import defaultdict\n",
    "\n",
    "index_ = index_str.split('\\n')\n",
    "chapters = defaultdict(dict)\n",
    "\n",
    "for i in range(1,29):\n",
    "    chap = f'CHAPTER {i}'\n",
    "    sections = {}\n",
    "    in_sections = {}\n",
    "    for j in range(len(index_)):\n",
    "        if index_[j] == chap:\n",
    "            chapters[chap.replace(' ', '_')]['name'] = index_[j+1].replace(' ', '_')\n",
    "            chapters[chap.replace(' ', '_')]['start_page'] = index_[j+2]\n",
    "        \n",
    "        if index_[j].startswith(f'{i}.'):\n",
    "            sections[(index_[j].replace(' ', '_').replace('10', 'X').replace('11', 'Y'))] = index_[j+1]\n",
    "            in_sections[index_[j]] = int(index_[j+1]) - int(chapters[chap.replace(' ', '_')]['start_page']) + 1\n",
    "\n",
    "        if index_[j] == \"Key Terms\":\n",
    "            chapters[chap.replace(' ', '_')]['end_page'] = int(index_[j+1])-1\n",
    "                \n",
    "        if index_[j] == f'CHAPTER {i+1}':\n",
    "            chapters[chap.replace(' ', '_')]['sections'] = sections\n",
    "            chapters[chap.replace(' ', '_')]['in_sections'] = in_sections\n",
    "            break\n",
    "\n",
    "chapters['CHAPTER_28']['sections'] = sections\n",
    "chapters['CHAPTER_28']['in_sections'] = sections\n",
    "        "
   ]
  },
  {
   "cell_type": "code",
   "execution_count": null,
   "metadata": {},
   "outputs": [],
   "source": [
    "doc[30].get_text().replace('\\n', ' ').replace('Access for free at openstax.org', '')"
   ]
  },
  {
   "cell_type": "code",
   "execution_count": null,
   "metadata": {},
   "outputs": [],
   "source": [
    "chapters"
   ]
  },
  {
   "cell_type": "code",
   "execution_count": null,
   "metadata": {},
   "outputs": [],
   "source": [
    "import json\n",
    "\n",
    "out_file = open(\"page_info.json\", \"w\")\n",
    "json.dump(chapters, out_file, indent=6)\n",
    "out_file.close()"
   ]
  },
  {
   "cell_type": "code",
   "execution_count": null,
   "metadata": {},
   "outputs": [],
   "source": [
    "import os\n",
    "\n",
    "doc = doc\n",
    "index_end = 16\n",
    "\n",
    "os.mkdir(f'./textbooks/textbook')\n",
    "\n",
    "for chapter in chapters.keys():\n",
    "    \n",
    "    chapter_name = chapters[chapter]['name']\n",
    "    sections = chapters[chapter]['sections']\n",
    "    page = int(chapters[chapter]['start_page']) + index_end - 1\n",
    "    sorted_index = sorted(sections)\n",
    "\n",
    "    os.mkdir(f'./textbooks/textbook/{chapter}_{chapter_name}')\n",
    "\n",
    "    text = \"\"\n",
    "    print(sorted_index)\n",
    "    if chapters[chapter]['start_page'] in sections.values():\n",
    "        text += doc[page].get_text()\n",
    "    else:\n",
    "        while str((page - index_end + 1)) not in sections.values():\n",
    "            text += doc[page].get_text()\n",
    "            page += 1\n",
    "\n",
    "    intro_file = open(f'./textbooks/textbook/{chapter}_{chapter_name}/introduction.txt', 'w', encoding='utf-8')\n",
    "    intro_file.write(text)\n",
    "    \n",
    "\n",
    "    for i in range(len(sorted_index)):\n",
    "        text = \"\"\n",
    "        if i == len(sorted_index) - 1:\n",
    "            end_page = int(chapters[chapter]['end_page']) + index_end - 1\n",
    "        else:\n",
    "            end_page = int(sections[sorted_index[i+1]]) + index_end - 1\n",
    "\n",
    "        while page != end_page:\n",
    "            text += doc[page].get_text()\n",
    "            page += 1\n",
    "        \n",
    "        section_content_file = open(f'./textbooks/textbook/{chapter}_{chapter_name}/{sorted_index[i]}.txt', 'w', encoding='utf-8')\n",
    "        section_content_file.write(text)"
   ]
  },
  {
   "cell_type": "code",
   "execution_count": null,
   "metadata": {},
   "outputs": [],
   "source": []
  },
  {
   "cell_type": "code",
   "execution_count": null,
   "metadata": {},
   "outputs": [],
   "source": []
  }
 ],
 "metadata": {
  "kernelspec": {
   "display_name": "Python 3.9.12 ('base')",
   "language": "python",
   "name": "python3"
  },
  "language_info": {
   "codemirror_mode": {
    "name": "ipython",
    "version": 3
   },
   "file_extension": ".py",
   "mimetype": "text/x-python",
   "name": "python",
   "nbconvert_exporter": "python",
   "pygments_lexer": "ipython3",
   "version": "3.9.12"
  },
  "orig_nbformat": 4,
  "vscode": {
   "interpreter": {
    "hash": "25b83fd0444be7c7fb63cba17860f3546e8a992d8554810b8ec48ec4f04ee018"
   }
  }
 },
 "nbformat": 4,
 "nbformat_minor": 2
}
